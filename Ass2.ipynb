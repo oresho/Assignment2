{
 "cells": [
  {
   "cell_type": "markdown",
   "id": "e37f5ab5-3dc1-408c-858c-d23582c26d06",
   "metadata": {},
   "source": [
    "# SOMUYIWA OREOLUWA OLANREWAJU\n",
    "# COMPUTER ENGINEERING\n",
    "# 18CJ024163\n",
    "# PYTHON STATISTICAL ANALYSIS OF MOBILE-CELLULAR TELEPHONE SUBSCRIPTIONS BETWEEN 2004 AND 2014\n",
    "# PER 100 INHABITANTS\n",
    "# DATABASE INTEGRATION"
   ]
  },
  {
   "cell_type": "code",
   "execution_count": 31,
   "id": "ab778702-d3ae-4605-889e-a5645ea79b8e",
   "metadata": {},
   "outputs": [
    {
     "name": "stdout",
     "output_type": "stream",
     "text": [
      "data already exist, add new data\n"
     ]
    }
   ],
   "source": [
    "import psycopg2\n",
    "import numpy as np\n",
    "import pandas as pd\n",
    "#data_csv = pandas.read_csv('/Users/oreoluwasomuyiwa/Downloads/data.csv')\n",
    "file = pd.read_csv(\"/Users/oreoluwasomuyiwa/Downloads/data.csv\")\n",
    "Africa = np.array([\"Algeria\", \"Angola\", \"Benin\", \"Botswana\", \"Burkina Faso\", \"Burundi\", \"Cameroon\", \"Cape Verde\", \"Central African Republic\", \"Chad\", \"Comoros\", \"Congo\", \"Congo, Democratic Republic of\", \"Djibouti\", \"Egypt\", \"Equatorial Guinea\", \"Eritrea\", \"Ethiopia\", \"Gabon\", \"Gambia\", \"Ghana\", \"Guinea\", \"Guinea-Bissau\", \"Ivory Coast\", \"Kenya\", \"Lesotho\", \"Liberia\", \"Libya\", \"Madagascar\", \"Malawi\", \"Mali\", \"Mauritania\", \"Mauritius\", \"Morocco\", \"Mozambique\", \"Namibia\", \"Niger\", \"Nigeria\", \"Rwanda\", \"Sao Tome and Principe\", \"Senegal\", \"Seychelles\", \"Sierra Leone\", \"Somalia\", \"South Africa\", \"South Sudan\", \"Sudan\", \"Swaziland\", \"Tanzania\", \"Togo\", \"Tunisia\", \"Uganda\", \"Zambia\", \"Zimbabwe\"])\n",
    "data_csv = file[file['Country or Area'].isin(Africa)]\n",
    "\n",
    "\n",
    "conn = psycopg2.connect(host=\"localhost\", port=5432, database=\"postgres\",\n",
    "                        user=\"postgres\", password=\"password\")\n",
    "# to initiate connection to database\n",
    "\n",
    "try:\n",
    "    sql_query = \"\"\"                  \n",
    "         CREATE TABLE data(\n",
    "             ID INT PRIMARY KEY NOT NULL,\n",
    "             Country TEXT NOT NULL,\n",
    "             Year INT NOT NULL,\n",
    "             Item TEXT NOT NULL,\n",
    "             Value FLOAT NOT NULL\n",
    "         )\n",
    "     \"\"\"  # create table on the connected database\n",
    "    cur = conn.cursor()\n",
    "\n",
    "    cur.execute(sql_query)\n",
    "    conn.commit()\n",
    "except psycopg2.errors.DuplicateTable:\n",
    "    pass\n",
    "\n",
    "cur = conn.cursor()\n",
    "conn.rollback()  # to avoid the DuplicateTable error\n",
    "\n",
    "\n",
    "def input_values(data):\n",
    "    # add values to table\n",
    "    try:\n",
    "        for (index, row) in data.iterrows():\n",
    "            insert_sql_query = f'''insert into data(ID, Country, Year, Item , Value)\n",
    "            VALUES('{index + 1}', '{row['Country or Area'].replace(\"\", \"\")}', '{row['Year']}', 'MOBILE-CELLULAR TELEPHONE SUBSCRIPTIONS', '{row['Value']}')'''\n",
    "\n",
    "            cur.execute(insert_sql_query)\n",
    "\n",
    "        conn.commit()\n",
    "    except psycopg2.errors.UniqueViolation:\n",
    "        print('data already exist, add new data')\n",
    "        pass\n",
    "\n",
    "\n",
    "input_values(data_csv)\n",
    "\n",
    "cur.close()\n",
    "conn.close()"
   ]
  },
  {
   "cell_type": "code",
   "execution_count": 32,
   "id": "f972c04d-b087-42e5-ae97-bb27b4fe5157",
   "metadata": {},
   "outputs": [
    {
     "name": "stdout",
     "output_type": "stream",
     "text": [
      "data already exist, add new data\n"
     ]
    }
   ],
   "source": [
    "import psycopg2\n",
    "import numpy as np\n",
    "import pandas as pd\n",
    "data_csv = pandas.read_csv('/Users/oreoluwasomuyiwa/Downloads/data.csv')\n",
    "\n",
    "\n",
    "conn = psycopg2.connect(host=\"localhost\", port=5432, database=\"postgres1\",\n",
    "                        user=\"postgres\", password=\"password\")\n",
    "# to initiate connection to database\n",
    "\n",
    "try:\n",
    "    sql_query = \"\"\"                  \n",
    "         CREATE TABLE data(\n",
    "             ID INT PRIMARY KEY NOT NULL,\n",
    "             Country TEXT NOT NULL,\n",
    "             Year INT NOT NULL,\n",
    "             Item TEXT NOT NULL,\n",
    "             Value FLOAT NOT NULL\n",
    "         )\n",
    "     \"\"\"  # create table on the connected database\n",
    "    cur = conn.cursor()\n",
    "\n",
    "    cur.execute(sql_query)\n",
    "    conn.commit()\n",
    "except psycopg2.errors.DuplicateTable:\n",
    "    pass\n",
    "\n",
    "cur = conn.cursor()\n",
    "conn.rollback()  # to avoid the DuplicateTable error\n",
    "\n",
    "\n",
    "def input_values(data):\n",
    "    # add values to table\n",
    "    try:\n",
    "        for (index, row) in data.iterrows():\n",
    "            insert_sql_query = f'''insert into data(ID, Country, Year, Item , Value)\n",
    "            VALUES('{index + 1}', '{row['Country or Area'].replace(\"\", \"\")}', '{row['Year']}', 'MOBILE-CELLULAR TELEPHONE SUBSCRIPTIONS', '{row['Value']}')'''\n",
    "\n",
    "            cur.execute(insert_sql_query)\n",
    "\n",
    "        conn.commit()\n",
    "    except psycopg2.errors.UniqueViolation:\n",
    "        print('data already exist, add new data')\n",
    "        pass\n",
    "\n",
    "\n",
    "input_values(data_csv)\n",
    "\n",
    "cur.close()\n",
    "conn.close()"
   ]
  },
  {
   "cell_type": "code",
   "execution_count": null,
   "id": "08a4eafb-6a37-4be9-b531-246bce5781cb",
   "metadata": {},
   "outputs": [],
   "source": []
  }
 ],
 "metadata": {
  "kernelspec": {
   "display_name": "Python 3",
   "language": "python",
   "name": "python3"
  },
  "language_info": {
   "codemirror_mode": {
    "name": "ipython",
    "version": 3
   },
   "file_extension": ".py",
   "mimetype": "text/x-python",
   "name": "python",
   "nbconvert_exporter": "python",
   "pygments_lexer": "ipython3",
   "version": "3.8.8"
  }
 },
 "nbformat": 4,
 "nbformat_minor": 5
}
